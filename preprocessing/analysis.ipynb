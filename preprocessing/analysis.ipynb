{
 "cells": [
  {
   "cell_type": "code",
   "execution_count": null,
   "metadata": {},
   "outputs": [],
   "source": [
    "import numpy as np\n",
    "import pandas as pd\n",
    "import seaborn as sns\n",
    "import scipy.sparse as sparse\n",
    "import warnings\n",
    "import matplotlib.pyplot as plt\n",
    "from langdetect import detect\n",
    "from googletrans import Translator\n",
    "import re\n",
    "import string\n",
    "from sentence_transformers import SentenceTransformer\n",
    "from utils import clean_text\n",
    "\n",
    "warnings.filterwarnings('ignore')"
   ]
  },
  {
   "cell_type": "markdown",
   "metadata": {},
   "source": [
    "# Training data"
   ]
  },
  {
   "cell_type": "markdown",
   "metadata": {},
   "source": [
    "### Unique genres"
   ]
  },
  {
   "cell_type": "code",
   "execution_count": null,
   "metadata": {},
   "outputs": [],
   "source": [
    "train_data = pd.read_csv(r'data/train_data.txt', sep=\":::\", names=[\"Title\",\"Genre\",\"Summary\"])\n",
    "\n",
    "counts = train_data['Genre'].value_counts()\n",
    "\n",
    "fig,axis = plt.subplots(figsize=(30,10))\n",
    "plt.bar(counts.index, counts.values)\n",
    "plt.xlabel('Genre')\n",
    "plt.ylabel('Number of movies')\n",
    "plt.show()"
   ]
  },
  {
   "cell_type": "markdown",
   "metadata": {},
   "source": [
    "### Unique languages"
   ]
  },
  {
   "cell_type": "code",
   "execution_count": null,
   "metadata": {},
   "outputs": [],
   "source": [
    "uniq_langs = set()\n",
    "langs = []\n",
    "for i in list(train_data[\"Summary\"]):\n",
    "    lang = detect(i)\n",
    "    langs.append(lang)\n",
    "    uniq_langs.add(lang)\n",
    "\n",
    "train_data[\"Language\"] = langs\n",
    "print(uniq_langs)\n",
    "\n",
    "len(train_data[~train_data.Language.isin(['en'])])"
   ]
  },
  {
   "cell_type": "code",
   "execution_count": null,
   "metadata": {},
   "outputs": [],
   "source": [
    "# So we have multiple genres of movies - drama, documentary, etc. \n",
    "# But out of those, the number of entries of a few genres is very high, which might be a cause of bias.\n",
    "\n",
    "# We also have multiple languages in the description. \n",
    "# But the number is very small compared to English. Hence, for simplicity, we shall only consider those in English for now.\n",
    "\n",
    "train_data = pd.read_csv('../data/train_data_with_languages.csv', index_col=0)\n",
    "train_data = train_data[train_data['Language']=='en']\n",
    "\n",
    "train_data['Summary'] = train_data['Summary'].apply(clean_text)\n",
    "Y_train = train_data['Genre']\n",
    "\n",
    "# The number of datapoints in \"drama\", \"documentary\",\"comedy\", \"short\" is way larger and skewed compared to other classes. Hence we shall simply clump all the other classes together.\n",
    "\n",
    "l = [' thriller ',' adult ',' crime ',' reality-tv ',' horror ',' sport ',' animation ',' action ',' fantasy ',' sci-fi ',' music ',' adventure ',' talk-show ',' western ',' family ',' mystery ',' history ',' news ',' biography ',' romance ',' game-show ',' musical ',' war ']\n",
    "train_data[\"Genre\"] = train_data[\"Genre\"].replace(to_replace=l,value='other')\n",
    "train_data[\"Genre\"] = train_data[\"Genre\"].replace(to_replace=[' drama '],value='drama')\n",
    "train_data[\"Genre\"] = train_data[\"Genre\"].replace(to_replace=[' documentary '],value='documentary')\n",
    "train_data[\"Genre\"] = train_data[\"Genre\"].replace(to_replace=[' comedy '],value='comedy')\n",
    "train_data[\"Genre\"] = train_data[\"Genre\"].replace(to_replace=[' short '],value='short')\n",
    "\n",
    "plt.figure(figsize=(6,5))\n",
    "sns.countplot(data=Y_train,x=Y_train.values,palette='rocket')\n",
    "sns.set(rc={'figure.figsize':(8,6)})\n",
    "plt.xticks(rotation=45)\n",
    "plt.show()"
   ]
  },
  {
   "cell_type": "markdown",
   "metadata": {},
   "source": [
    "# Testing data"
   ]
  },
  {
   "cell_type": "code",
   "execution_count": null,
   "metadata": {},
   "outputs": [],
   "source": [
    "test_data = pd.read_csv(r'E:/Skybug Technology Internship/Skybug-Movie-Genre-Classification/data/test_data_solution.txt', sep=\":::\", names=[\"Id\",\"Title\",\"Genre\",\"Summary\"])\n",
    "X_test = test_data[\"Summary\"]\n",
    "Y_test = test_data[\"Genre\"]\n",
    "\n",
    "X_test = X_test.apply(clean_text)\n",
    "counts = Y_test.value_counts()\n",
    "\n",
    "fig,axis = plt.subplots(figsize=(30,10))\n",
    "plt.bar(counts.index, counts.values)\n",
    "plt.xlabel('Genre')\n",
    "plt.ylabel('Number of movies')\n",
    "plt.show()"
   ]
  },
  {
   "cell_type": "code",
   "execution_count": null,
   "metadata": {},
   "outputs": [],
   "source": [
    "l = [' thriller ',' adult ',' crime ',' reality-tv ',' horror ',' sport ',' animation ',' action ',' fantasy ',' sci-fi ',' music ',' adventure ',' talk-show ',' western ',' family ',' mystery ',' history ',' news ',' biography ',' romance ',' game-show ',' musical ',' war ']\n",
    "Y_test = Y_test.replace(to_replace=l,value='other')\n",
    "Y_test = Y_test.replace(to_replace=[' drama '],value='drama')\n",
    "Y_test = Y_test.replace(to_replace=[' documentary '],value='documentary')\n",
    "Y_test = Y_test.replace(to_replace=[' comedy '],value='comedy')\n",
    "Y_test = Y_test.replace(to_replace=[' short '],value='short')\n",
    "\n",
    "plt.figure(figsize=(6,5))\n",
    "sns.countplot(data=Y_test,x=Y_test.values,palette='rocket')\n",
    "sns.set(rc={'figure.figsize':(8,6)})\n",
    "plt.xticks(rotation=45)\n",
    "plt.show()"
   ]
  }
 ],
 "metadata": {
  "kernelspec": {
   "display_name": "dlenv",
   "language": "python",
   "name": "python3"
  },
  "language_info": {
   "codemirror_mode": {
    "name": "ipython",
    "version": 3
   },
   "file_extension": ".py",
   "mimetype": "text/x-python",
   "name": "python",
   "nbconvert_exporter": "python",
   "pygments_lexer": "ipython3",
   "version": "3.10.0"
  }
 },
 "nbformat": 4,
 "nbformat_minor": 2
}
