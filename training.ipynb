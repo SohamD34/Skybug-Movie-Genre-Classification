{
 "cells": [
  {
   "cell_type": "code",
   "execution_count": 26,
   "metadata": {},
   "outputs": [],
   "source": [
    "from sklearn.naive_bayes import MultinomialNB\n",
    "import numpy as np\n",
    "import pandas as pd\n",
    "from sklearn.metrics import classification_report\n",
    "from sklearn.metrics import accuracy_score\n",
    "from sklearn.preprocessing import MinMaxScaler\n",
    "from sklearn.svm import SVC\n",
    "from sklearn.linear_model import LogisticRegression\n",
    "from sklearn.multiclass import OneVsRestClassifier\n",
    "import pickle\n",
    "import torch\n",
    "import torch.nn as nn\n",
    "\n",
    "import warnings\n",
    "warnings.filterwarnings(\"ignore\")"
   ]
  },
  {
   "cell_type": "code",
   "execution_count": 2,
   "metadata": {},
   "outputs": [
    {
     "name": "stdout",
     "output_type": "stream",
     "text": [
      "(54214, 384)\n"
     ]
    }
   ],
   "source": [
    "x_train = pd.read_csv('../data/x_train.csv')\n",
    "y_train = pd.read_csv('../data/y_train.csv')\n",
    "y_train = y_train['Genre'].values\n",
    "\n",
    "print(x_train.shape)"
   ]
  },
  {
   "cell_type": "code",
   "execution_count": 3,
   "metadata": {},
   "outputs": [
    {
     "data": {
      "text/html": [
       "<div>\n",
       "<style scoped>\n",
       "    .dataframe tbody tr th:only-of-type {\n",
       "        vertical-align: middle;\n",
       "    }\n",
       "\n",
       "    .dataframe tbody tr th {\n",
       "        vertical-align: top;\n",
       "    }\n",
       "\n",
       "    .dataframe thead th {\n",
       "        text-align: right;\n",
       "    }\n",
       "</style>\n",
       "<table border=\"1\" class=\"dataframe\">\n",
       "  <thead>\n",
       "    <tr style=\"text-align: right;\">\n",
       "      <th></th>\n",
       "      <th>0</th>\n",
       "      <th>1</th>\n",
       "      <th>2</th>\n",
       "      <th>3</th>\n",
       "      <th>4</th>\n",
       "      <th>5</th>\n",
       "      <th>6</th>\n",
       "      <th>7</th>\n",
       "      <th>8</th>\n",
       "      <th>9</th>\n",
       "      <th>...</th>\n",
       "      <th>374</th>\n",
       "      <th>375</th>\n",
       "      <th>376</th>\n",
       "      <th>377</th>\n",
       "      <th>378</th>\n",
       "      <th>379</th>\n",
       "      <th>380</th>\n",
       "      <th>381</th>\n",
       "      <th>382</th>\n",
       "      <th>383</th>\n",
       "    </tr>\n",
       "  </thead>\n",
       "  <tbody>\n",
       "    <tr>\n",
       "      <th>0</th>\n",
       "      <td>-0.100113</td>\n",
       "      <td>0.047543</td>\n",
       "      <td>-0.017568</td>\n",
       "      <td>0.022169</td>\n",
       "      <td>-0.008113</td>\n",
       "      <td>0.066285</td>\n",
       "      <td>0.044294</td>\n",
       "      <td>-0.001988</td>\n",
       "      <td>0.023515</td>\n",
       "      <td>-0.096185</td>\n",
       "      <td>...</td>\n",
       "      <td>0.017540</td>\n",
       "      <td>-0.043811</td>\n",
       "      <td>-0.008418</td>\n",
       "      <td>0.009575</td>\n",
       "      <td>0.004424</td>\n",
       "      <td>0.008141</td>\n",
       "      <td>0.030389</td>\n",
       "      <td>0.016892</td>\n",
       "      <td>0.053477</td>\n",
       "      <td>0.006697</td>\n",
       "    </tr>\n",
       "    <tr>\n",
       "      <th>1</th>\n",
       "      <td>-0.030218</td>\n",
       "      <td>0.053955</td>\n",
       "      <td>-0.115293</td>\n",
       "      <td>-0.023189</td>\n",
       "      <td>-0.023016</td>\n",
       "      <td>-0.004647</td>\n",
       "      <td>0.005791</td>\n",
       "      <td>-0.061413</td>\n",
       "      <td>0.050253</td>\n",
       "      <td>-0.013987</td>\n",
       "      <td>...</td>\n",
       "      <td>0.017131</td>\n",
       "      <td>-0.097131</td>\n",
       "      <td>0.016678</td>\n",
       "      <td>0.090240</td>\n",
       "      <td>-0.049587</td>\n",
       "      <td>0.036313</td>\n",
       "      <td>0.082832</td>\n",
       "      <td>-0.045983</td>\n",
       "      <td>0.112446</td>\n",
       "      <td>-0.038247</td>\n",
       "    </tr>\n",
       "    <tr>\n",
       "      <th>2</th>\n",
       "      <td>0.055413</td>\n",
       "      <td>0.067351</td>\n",
       "      <td>0.057936</td>\n",
       "      <td>0.040602</td>\n",
       "      <td>0.043434</td>\n",
       "      <td>-0.006236</td>\n",
       "      <td>0.001159</td>\n",
       "      <td>-0.051813</td>\n",
       "      <td>0.067461</td>\n",
       "      <td>-0.027024</td>\n",
       "      <td>...</td>\n",
       "      <td>0.019969</td>\n",
       "      <td>-0.039349</td>\n",
       "      <td>0.003698</td>\n",
       "      <td>0.012504</td>\n",
       "      <td>-0.134172</td>\n",
       "      <td>0.041827</td>\n",
       "      <td>-0.004911</td>\n",
       "      <td>0.070233</td>\n",
       "      <td>-0.081329</td>\n",
       "      <td>-0.061537</td>\n",
       "    </tr>\n",
       "    <tr>\n",
       "      <th>3</th>\n",
       "      <td>-0.051497</td>\n",
       "      <td>-0.011621</td>\n",
       "      <td>0.006114</td>\n",
       "      <td>-0.038689</td>\n",
       "      <td>-0.042185</td>\n",
       "      <td>0.065028</td>\n",
       "      <td>0.019505</td>\n",
       "      <td>0.038383</td>\n",
       "      <td>0.037409</td>\n",
       "      <td>-0.109517</td>\n",
       "      <td>...</td>\n",
       "      <td>0.027292</td>\n",
       "      <td>-0.039455</td>\n",
       "      <td>-0.035343</td>\n",
       "      <td>0.039774</td>\n",
       "      <td>-0.003396</td>\n",
       "      <td>0.129379</td>\n",
       "      <td>-0.002248</td>\n",
       "      <td>0.027673</td>\n",
       "      <td>0.096751</td>\n",
       "      <td>-0.032260</td>\n",
       "    </tr>\n",
       "    <tr>\n",
       "      <th>4</th>\n",
       "      <td>-0.044385</td>\n",
       "      <td>-0.024631</td>\n",
       "      <td>-0.002330</td>\n",
       "      <td>0.082546</td>\n",
       "      <td>0.054457</td>\n",
       "      <td>-0.025413</td>\n",
       "      <td>0.047433</td>\n",
       "      <td>-0.054462</td>\n",
       "      <td>-0.003557</td>\n",
       "      <td>-0.085276</td>\n",
       "      <td>...</td>\n",
       "      <td>0.063805</td>\n",
       "      <td>0.055537</td>\n",
       "      <td>-0.010916</td>\n",
       "      <td>0.055499</td>\n",
       "      <td>-0.081727</td>\n",
       "      <td>0.052276</td>\n",
       "      <td>0.066995</td>\n",
       "      <td>-0.018595</td>\n",
       "      <td>-0.091746</td>\n",
       "      <td>-0.009528</td>\n",
       "    </tr>\n",
       "  </tbody>\n",
       "</table>\n",
       "<p>5 rows × 384 columns</p>\n",
       "</div>"
      ],
      "text/plain": [
       "          0         1         2         3         4         5         6  \\\n",
       "0 -0.100113  0.047543 -0.017568  0.022169 -0.008113  0.066285  0.044294   \n",
       "1 -0.030218  0.053955 -0.115293 -0.023189 -0.023016 -0.004647  0.005791   \n",
       "2  0.055413  0.067351  0.057936  0.040602  0.043434 -0.006236  0.001159   \n",
       "3 -0.051497 -0.011621  0.006114 -0.038689 -0.042185  0.065028  0.019505   \n",
       "4 -0.044385 -0.024631 -0.002330  0.082546  0.054457 -0.025413  0.047433   \n",
       "\n",
       "          7         8         9  ...       374       375       376       377  \\\n",
       "0 -0.001988  0.023515 -0.096185  ...  0.017540 -0.043811 -0.008418  0.009575   \n",
       "1 -0.061413  0.050253 -0.013987  ...  0.017131 -0.097131  0.016678  0.090240   \n",
       "2 -0.051813  0.067461 -0.027024  ...  0.019969 -0.039349  0.003698  0.012504   \n",
       "3  0.038383  0.037409 -0.109517  ...  0.027292 -0.039455 -0.035343  0.039774   \n",
       "4 -0.054462 -0.003557 -0.085276  ...  0.063805  0.055537 -0.010916  0.055499   \n",
       "\n",
       "        378       379       380       381       382       383  \n",
       "0  0.004424  0.008141  0.030389  0.016892  0.053477  0.006697  \n",
       "1 -0.049587  0.036313  0.082832 -0.045983  0.112446 -0.038247  \n",
       "2 -0.134172  0.041827 -0.004911  0.070233 -0.081329 -0.061537  \n",
       "3 -0.003396  0.129379 -0.002248  0.027673  0.096751 -0.032260  \n",
       "4 -0.081727  0.052276  0.066995 -0.018595 -0.091746 -0.009528  \n",
       "\n",
       "[5 rows x 384 columns]"
      ]
     },
     "execution_count": 3,
     "metadata": {},
     "output_type": "execute_result"
    }
   ],
   "source": [
    "x_train.head(5)"
   ]
  },
  {
   "cell_type": "markdown",
   "metadata": {},
   "source": [
    "## Multinomial Naive Bayes"
   ]
  },
  {
   "cell_type": "code",
   "execution_count": 24,
   "metadata": {},
   "outputs": [
    {
     "name": "stdout",
     "output_type": "stream",
     "text": [
      "Training Accuracy:  0.5203637436824436\n"
     ]
    }
   ],
   "source": [
    "scaler = MinMaxScaler() \n",
    "scaler.fit(x_train)\n",
    "x_t = scaler.transform(x_train)\n",
    "\n",
    "NB = MultinomialNB(alpha=0.9)\n",
    "NB.fit(x_t,y_train)\n",
    "\n",
    "print(\"Training Accuracy: \",NB.score(x_t,y_train))\n",
    "\n",
    "# pickle.dump(NB, open('models/NB.pkl','wb'))"
   ]
  },
  {
   "cell_type": "code",
   "execution_count": 25,
   "metadata": {},
   "outputs": [],
   "source": [
    "pickle.dump(NB, open('models/NB.pkl','wb'))"
   ]
  },
  {
   "cell_type": "code",
   "execution_count": 13,
   "metadata": {},
   "outputs": [
    {
     "name": "stdout",
     "output_type": "stream",
     "text": [
      "              precision    recall  f1-score   support\n",
      "\n",
      "      comedy       0.69      0.00      0.00      7447\n",
      " documentary       0.63      0.72      0.67     13096\n",
      "       drama       0.52      0.64      0.57     13613\n",
      "       other       0.45      0.67      0.54     14985\n",
      "       short       0.00      0.00      0.00      5073\n",
      "\n",
      "    accuracy                           0.52     54214\n",
      "   macro avg       0.46      0.41      0.36     54214\n",
      "weighted avg       0.50      0.52      0.46     54214\n",
      "\n"
     ]
    }
   ],
   "source": [
    "print(classification_report(y_train,NB.predict(x_t)))"
   ]
  },
  {
   "cell_type": "markdown",
   "metadata": {},
   "source": [
    "## SVM"
   ]
  },
  {
   "cell_type": "markdown",
   "metadata": {},
   "source": [
    "### Sigmoid"
   ]
  },
  {
   "cell_type": "code",
   "execution_count": 5,
   "metadata": {},
   "outputs": [
    {
     "name": "stdout",
     "output_type": "stream",
     "text": [
      "Training Accuracy:  0.5411148411849338\n"
     ]
    }
   ],
   "source": [
    "svm_sig = SVC(C=1.0, kernel='sigmoid', degree=3, gamma='auto')\n",
    "svm_sig.fit(x_train,y_train)\n",
    "\n",
    "print(\"Training Accuracy: \",svm_sig.score(x_train,y_train))"
   ]
  },
  {
   "cell_type": "code",
   "execution_count": 7,
   "metadata": {},
   "outputs": [],
   "source": [
    "pickle.dump(svm_sig, open('models/SVM_sig.pkl','wb'))"
   ]
  },
  {
   "cell_type": "code",
   "execution_count": 8,
   "metadata": {},
   "outputs": [
    {
     "name": "stdout",
     "output_type": "stream",
     "text": [
      "              precision    recall  f1-score   support\n",
      "\n",
      "      comedy       1.00      0.00      0.00      7447\n",
      " documentary       0.62      0.79      0.70     13096\n",
      "       drama       0.51      0.70      0.59     13613\n",
      "       other       0.50      0.62      0.56     14985\n",
      "       short       0.00      0.00      0.00      5073\n",
      "\n",
      "    accuracy                           0.54     54214\n",
      "   macro avg       0.53      0.42      0.37     54214\n",
      "weighted avg       0.55      0.54      0.47     54214\n",
      "\n"
     ]
    }
   ],
   "source": [
    "print(classification_report(y_train,svm_sig.predict(x_train)))"
   ]
  },
  {
   "cell_type": "markdown",
   "metadata": {},
   "source": [
    "### RBF"
   ]
  },
  {
   "cell_type": "code",
   "execution_count": 12,
   "metadata": {},
   "outputs": [
    {
     "name": "stdout",
     "output_type": "stream",
     "text": [
      "Training Accuracy:  0.5550595787066072\n"
     ]
    }
   ],
   "source": [
    "svm_rbf = SVC(C=1.0, kernel='rbf', degree=3, gamma='auto')\n",
    "svm_rbf.fit(x_train,y_train)\n",
    "\n",
    "print(\"Training Accuracy: \",svm_rbf.score(x_train,y_train))"
   ]
  },
  {
   "cell_type": "code",
   "execution_count": 14,
   "metadata": {},
   "outputs": [],
   "source": [
    "pickle.dump(svm_rbf, open('models/SVM_rbf.pkl','wb'))"
   ]
  },
  {
   "cell_type": "code",
   "execution_count": 13,
   "metadata": {},
   "outputs": [
    {
     "name": "stdout",
     "output_type": "stream",
     "text": [
      "              precision    recall  f1-score   support\n",
      "\n",
      "      comedy       0.74      0.04      0.07      7447\n",
      " documentary       0.63      0.81      0.71     13096\n",
      "       drama       0.51      0.72      0.60     13613\n",
      "       other       0.53      0.63      0.57     14985\n",
      "       short       0.00      0.00      0.00      5073\n",
      "\n",
      "    accuracy                           0.56     54214\n",
      "   macro avg       0.48      0.44      0.39     54214\n",
      "weighted avg       0.53      0.56      0.49     54214\n",
      "\n"
     ]
    }
   ],
   "source": [
    "print(classification_report(y_train,svm_rbf.predict(x_train)))"
   ]
  },
  {
   "cell_type": "markdown",
   "metadata": {},
   "source": [
    "## Logistic Regression"
   ]
  },
  {
   "cell_type": "code",
   "execution_count": 18,
   "metadata": {},
   "outputs": [
    {
     "name": "stdout",
     "output_type": "stream",
     "text": [
      "Training Accuracy:  0.6318478621758218\n"
     ]
    }
   ],
   "source": [
    "lr = LogisticRegression()\n",
    "lr.fit(x_train,y_train)\n",
    "\n",
    "print(\"Training Accuracy: \",lr.score(x_train,y_train))"
   ]
  },
  {
   "cell_type": "code",
   "execution_count": 20,
   "metadata": {},
   "outputs": [],
   "source": [
    "pickle.dump(lr, open('models/LR.pkl','wb'))"
   ]
  },
  {
   "cell_type": "code",
   "execution_count": 21,
   "metadata": {},
   "outputs": [
    {
     "name": "stdout",
     "output_type": "stream",
     "text": [
      "              precision    recall  f1-score   support\n",
      "\n",
      "      comedy       0.60      0.50      0.54      7447\n",
      " documentary       0.71      0.79      0.75     13096\n",
      "       drama       0.60      0.68      0.63     13613\n",
      "       other       0.62      0.64      0.63     14985\n",
      "       short       0.55      0.28      0.37      5073\n",
      "\n",
      "    accuracy                           0.63     54214\n",
      "   macro avg       0.61      0.58      0.59     54214\n",
      "weighted avg       0.63      0.63      0.62     54214\n",
      "\n"
     ]
    }
   ],
   "source": [
    "print(classification_report(y_train,lr.predict(x_train)))"
   ]
  }
 ],
 "metadata": {
  "kernelspec": {
   "display_name": "dlenv",
   "language": "python",
   "name": "python3"
  },
  "language_info": {
   "codemirror_mode": {
    "name": "ipython",
    "version": 3
   },
   "file_extension": ".py",
   "mimetype": "text/x-python",
   "name": "python",
   "nbconvert_exporter": "python",
   "pygments_lexer": "ipython3",
   "version": "3.10.0"
  }
 },
 "nbformat": 4,
 "nbformat_minor": 2
}
